{
  "nbformat": 4,
  "nbformat_minor": 0,
  "metadata": {
    "colab": {
      "name": "english_probing.ipynb",
      "provenance": [],
      "collapsed_sections": []
    },
    "kernelspec": {
      "name": "python3",
      "display_name": "Python 3"
    },
    "language_info": {
      "name": "python"
    }
  },
  "cells": [
    {
      "cell_type": "code",
      "execution_count": 21,
      "metadata": {
        "id": "hNRbQpZsEwJN",
        "colab": {
          "base_uri": "https://localhost:8080/"
        },
        "outputId": "e2086959-6b05-4997-c28c-21b1d80fc532"
      },
      "outputs": [
        {
          "output_type": "stream",
          "name": "stdout",
          "text": [
            "--2022-02-18 17:06:09--  https://raw.githubusercontent.com/UniversalDependencies/UD_English-EWT/master/en_ewt-ud-train.conllu\n",
            "Resolving raw.githubusercontent.com (raw.githubusercontent.com)... 185.199.108.133, 185.199.111.133, 185.199.110.133, ...\n",
            "Connecting to raw.githubusercontent.com (raw.githubusercontent.com)|185.199.108.133|:443... connected.\n",
            "HTTP request sent, awaiting response... 200 OK\n",
            "Length: 13679077 (13M) [text/plain]\n",
            "Saving to: ‘en_ewt-ud-train.conllu’\n",
            "\n",
            "\ren_ewt-ud-train.con   0%[                    ]       0  --.-KB/s               \ren_ewt-ud-train.con 100%[===================>]  13.04M  --.-KB/s    in 0.04s   \n",
            "\n",
            "2022-02-18 17:06:09 (305 MB/s) - ‘en_ewt-ud-train.conllu’ saved [13679077/13679077]\n",
            "\n"
          ]
        }
      ],
      "source": [
        "!wget https://raw.githubusercontent.com/UniversalDependencies/UD_English-EWT/master/en_ewt-ud-train.conllu"
      ]
    },
    {
      "cell_type": "code",
      "source": [
        "!pip install nltk\n",
        "!pip install numpy\n",
        "!pip install conllu"
      ],
      "metadata": {
        "id": "emoyQ8Z4Fign"
      },
      "execution_count": null,
      "outputs": []
    },
    {
      "cell_type": "code",
      "source": [
        "!git pull"
      ],
      "metadata": {
        "id": "NzneroPqrQdc",
        "colab": {
          "base_uri": "https://localhost:8080/"
        },
        "outputId": "4ef59fac-94f3-4081-b216-ec70758f7487"
      },
      "execution_count": 27,
      "outputs": [
        {
          "output_type": "stream",
          "name": "stdout",
          "text": [
            "fatal: not a git repository (or any of the parent directories): .git\n"
          ]
        }
      ]
    },
    {
      "cell_type": "code",
      "source": [
        "from UD_probing.conllu_to_probing import generate_probing_file"
      ],
      "metadata": {
        "id": "lekPNgWNraJ1"
      },
      "execution_count": 28,
      "outputs": []
    },
    {
      "cell_type": "code",
      "source": [
        "from conllu import parse"
      ],
      "metadata": {
        "id": "1tAgGgWjsZff"
      },
      "execution_count": 29,
      "outputs": []
    },
    {
      "cell_type": "code",
      "source": [
        "def find_categories(conllu_path):\n",
        "    with open(conllu_path, 'r', encoding='utf-8') as f:\n",
        "        file = f.read()\n",
        "    set_of_values = set()\n",
        "    token_lists = parse(file)\n",
        "    for token_list in token_lists:\n",
        "        for token in token_list:\n",
        "            feats = token['feats']\n",
        "            if feats:\n",
        "                set_of_values.update(feats.keys())\n",
        "    return set_of_values"
      ],
      "metadata": {
        "id": "p-rxVS0FshfP"
      },
      "execution_count": 30,
      "outputs": []
    },
    {
      "cell_type": "code",
      "source": [
        "conllu_path = 'en_ewt-ud-train.conllu'"
      ],
      "metadata": {
        "id": "VG12R4mIskHV"
      },
      "execution_count": 31,
      "outputs": []
    },
    {
      "cell_type": "code",
      "source": [
        "categories = find_categories(conllu_path) "
      ],
      "metadata": {
        "id": "z7lVbddlx9R8"
      },
      "execution_count": 32,
      "outputs": []
    },
    {
      "cell_type": "code",
      "source": [
        "for category in categories:  \n",
        "    generate_probing_file(category, conllu_path, category + '.txt')"
      ],
      "metadata": {
        "id": "BEQRSFyksotv",
        "colab": {
          "base_uri": "https://localhost:8080/"
        },
        "outputId": "37129b41-2dfb-41d9-bb35-d015170ddda6"
      },
      "execution_count": 33,
      "outputs": [
        {
          "output_type": "stream",
          "name": "stdout",
          "text": [
            "Начинаем генерировать файл для категориии Number ...\n",
            "Классифицируем предложения по категории...\n",
            "Разбиваем на выборки...\n",
            "Записываем в файл...\n",
            "Начинаем генерировать файл для категориии ExtPos ...\n",
            "Классифицируем предложения по категории...\n",
            "Разбиваем на выборки...\n",
            "Записываем в файл...\n",
            "Начинаем генерировать файл для категориии Mood ...\n",
            "Классифицируем предложения по категории...\n",
            "Разбиваем на выборки...\n",
            "Записываем в файл...\n",
            "Начинаем генерировать файл для категориии Abbr ...\n",
            "Классифицируем предложения по категории...\n",
            "Разбиваем на выборки...\n",
            "Записываем в файл...\n",
            "Начинаем генерировать файл для категориии Case ...\n",
            "Классифицируем предложения по категории...\n",
            "Разбиваем на выборки...\n",
            "Записываем в файл...\n",
            "Начинаем генерировать файл для категориии Definite ...\n",
            "Классифицируем предложения по категории...\n",
            "Разбиваем на выборки...\n",
            "Записываем в файл...\n",
            "Начинаем генерировать файл для категориии Reflex ...\n",
            "Классифицируем предложения по категории...\n",
            "Разбиваем на выборки...\n",
            "Записываем в файл...\n",
            "Начинаем генерировать файл для категориии Tense ...\n",
            "Классифицируем предложения по категории...\n",
            "Разбиваем на выборки...\n",
            "Записываем в файл...\n",
            "Начинаем генерировать файл для категориии NumType ...\n",
            "Классифицируем предложения по категории...\n",
            "Разбиваем на выборки...\n",
            "Записываем в файл...\n",
            "Начинаем генерировать файл для категориии VerbForm ...\n",
            "Классифицируем предложения по категории...\n",
            "Разбиваем на выборки...\n",
            "Записываем в файл...\n",
            "Начинаем генерировать файл для категориии Voice ...\n",
            "Классифицируем предложения по категории...\n",
            "Разбиваем на выборки...\n",
            "Записываем в файл...\n",
            "Начинаем генерировать файл для категориии Degree ...\n",
            "Классифицируем предложения по категории...\n",
            "Разбиваем на выборки...\n",
            "Записываем в файл...\n",
            "Начинаем генерировать файл для категориии Gender ...\n",
            "Классифицируем предложения по категории...\n",
            "Разбиваем на выборки...\n",
            "Записываем в файл...\n",
            "Начинаем генерировать файл для категориии Person ...\n",
            "Классифицируем предложения по категории...\n",
            "Разбиваем на выборки...\n",
            "Записываем в файл...\n",
            "Начинаем генерировать файл для категориии PronType ...\n",
            "Классифицируем предложения по категории...\n",
            "Разбиваем на выборки...\n",
            "Записываем в файл...\n",
            "Начинаем генерировать файл для категориии Foreign ...\n",
            "Классифицируем предложения по категории...\n",
            "Разбиваем на выборки...\n",
            "Записываем в файл...\n",
            "Начинаем генерировать файл для категориии Typo ...\n",
            "Классифицируем предложения по категории...\n",
            "Разбиваем на выборки...\n",
            "Записываем в файл...\n",
            "Начинаем генерировать файл для категориии Poss ...\n",
            "Классифицируем предложения по категории...\n",
            "Разбиваем на выборки...\n",
            "Записываем в файл...\n",
            "Начинаем генерировать файл для категориии Style ...\n",
            "Классифицируем предложения по категории...\n",
            "Разбиваем на выборки...\n",
            "Записываем в файл...\n"
          ]
        }
      ]
    }
  ]
}