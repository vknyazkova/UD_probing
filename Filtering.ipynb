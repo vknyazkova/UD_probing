{
 "cells": [
  {
   "cell_type": "markdown",
   "id": "1ef85759",
   "metadata": {},
   "source": [
    "### Загрузка данных"
   ]
  },
  {
   "cell_type": "code",
   "execution_count": 19,
   "id": "c62c6de9",
   "metadata": {},
   "outputs": [],
   "source": [
    "import re\n",
    "from conllu import parse\n",
    "from conllu import models\n",
    "from itertools import product\n",
    "from collections import defaultdict\n",
    "from typing import Iterable"
   ]
  },
  {
   "cell_type": "code",
   "execution_count": 2,
   "id": "e6adeb3e",
   "metadata": {},
   "outputs": [],
   "source": [
    "conllu_path = 'en_ewt-ud-train.conllu'"
   ]
  },
  {
   "cell_type": "code",
   "execution_count": 3,
   "id": "3d0850f5",
   "metadata": {},
   "outputs": [],
   "source": [
    "with open(conllu_path, 'r', encoding='utf-8') as f:\n",
    "    conllufile = f.read()\n",
    "sentences = parse(conllufile)"
   ]
  },
  {
   "cell_type": "code",
   "execution_count": 4,
   "id": "29b36de7",
   "metadata": {},
   "outputs": [],
   "source": [
    "some_sentence = sentences[2]"
   ]
  },
  {
   "cell_type": "code",
   "execution_count": 5,
   "id": "8118cf36",
   "metadata": {},
   "outputs": [
    {
     "data": {
      "text/plain": [
       "conllu.models.TokenList"
      ]
     },
     "execution_count": 5,
     "metadata": {},
     "output_type": "execute_result"
    }
   ],
   "source": [
    "type(some_sentence)"
   ]
  },
  {
   "cell_type": "code",
   "execution_count": 6,
   "id": "cead9d6f",
   "metadata": {},
   "outputs": [],
   "source": [
    "node_pattern = {'N': {'upos':'VERB', 'lemma':'walk|go', 'Mood':'Ind|Imp'},\n",
    "          'M': {'Number':'Plur'}}"
   ]
  },
  {
   "cell_type": "markdown",
   "id": "3fc08340",
   "metadata": {},
   "source": [
    "## Проверка на узлы"
   ]
  },
  {
   "cell_type": "markdown",
   "id": "eec351f3",
   "metadata": {},
   "source": [
    "_❓ - можно ли как-то убрать из регулярки ^ и $ при этом, чтобы от искал полное соответствие?_"
   ]
  },
  {
   "cell_type": "markdown",
   "id": "91287099",
   "metadata": {},
   "source": [
    "_for Vika: проверить все ли норм при поиске с регистром_"
   ]
  },
  {
   "cell_type": "code",
   "execution_count": 35,
   "id": "fd777e05",
   "metadata": {},
   "outputs": [],
   "source": [
    "def token_match_node(token: models.Token, node_pattern: str) -> bool:\n",
    "    \"Проверяет соответствует ли данный токен заданному паттерну\"\n",
    "    \n",
    "    for feat in node_pattern:\n",
    "        if feat in token.keys():\n",
    "            if not re.search(node_pattern[feat], token[feat]): #match\n",
    "                return False\n",
    "        elif token['feats']:\n",
    "            if feat in token['feats']:\n",
    "                if not re.search(node_pattern[feat], token['feats'][feat]): #match\n",
    "                    return False\n",
    "        else:\n",
    "            return False\n",
    "    return True"
   ]
  },
  {
   "cell_type": "code",
   "execution_count": 9,
   "id": "d433ba7c",
   "metadata": {},
   "outputs": [],
   "source": [
    "def search_suitable_tokens(token_list: models.TokenList, node_pattern: str) -> list:\n",
    "    \"Ищет все токены подходящие под заданный паттерн\"\n",
    "    \n",
    "    suitable_tokens = []\n",
    "    for token in token_list:\n",
    "        if token_match_node(token, node_pattern):\n",
    "            suitable_tokens.append(token['id'])\n",
    "    return suitable_tokens"
   ]
  },
  {
   "cell_type": "code",
   "execution_count": 46,
   "id": "69c476b8",
   "metadata": {},
   "outputs": [],
   "source": [
    "def find_all_nodes(nodes: dict, sentence: models.TokenList) -> dict:\n",
    "    \"проверяет есть ли в предложении все заданные ноды\"\n",
    "    \n",
    "    nodes_tokens = {}\n",
    "    for node in nodes:\n",
    "        sutable_tokens = search_suitable_tokens(sentence, nodes[node])\n",
    "        if sutable_tokens:\n",
    "            nodes_tokens[node] = sutable_tokens\n",
    "        else:\n",
    "            return False\n",
    "    return nodes_tokens"
   ]
  },
  {
   "cell_type": "markdown",
   "id": "f9633d06",
   "metadata": {},
   "source": [
    "_надо, наверное, как-то проверять, что для разных паттернов разные токены?_"
   ]
  },
  {
   "cell_type": "markdown",
   "id": "b91695ab",
   "metadata": {},
   "source": [
    "## Проверка на ограничения"
   ]
  },
  {
   "cell_type": "markdown",
   "id": "afc92e15",
   "metadata": {},
   "source": [
    "_❓ как лучше? пройтись по всем constraints (deprels, lindist, treedist, common_feats) и на каждом шагу выкидывать те пары, которые не подходят или проходить по каждой паре и проверять на все constraints (и соответственно если хоть одна подошла, то оставлять предложение)_"
   ]
  },
  {
   "cell_type": "code",
   "execution_count": 12,
   "id": "9f68d8ff",
   "metadata": {},
   "outputs": [],
   "source": [
    "nodes_constraints = {(\"N\", \"M\"): {'deprels': \"nsubj|aux\", \"lindist\": (-1, 1)}}"
   ]
  },
  {
   "cell_type": "code",
   "execution_count": 14,
   "id": "162c3374",
   "metadata": {},
   "outputs": [],
   "source": [
    "def all_deprels(token_list: models.TokenList) -> defaultdict:\n",
    "    \"создает словарь вида {'relation': (head, dependent)} из всех отношений в предложении\"\n",
    "    \n",
    "    deprels = defaultdict(list)\n",
    "    for t in token_list:\n",
    "        deprels[t['deprel']].append((t['head'], t['id']))\n",
    "    return deprels"
   ]
  },
  {
   "cell_type": "code",
   "execution_count": 15,
   "id": "7b33bc54",
   "metadata": {},
   "outputs": [],
   "source": [
    "def pattern_relations(rel_pattern: str, sent_rels: defaultdict):\n",
    "    \"возвращает все названия отношений, которые подходят под заданный паттерн\"\n",
    "    \n",
    "    rels = []\n",
    "    for rel in sent_rels:\n",
    "        if re.search(rel_pattern, rel):\n",
    "            rels.append(rel)\n",
    "    return rels"
   ]
  },
  {
   "cell_type": "code",
   "execution_count": 22,
   "id": "638bdfd0",
   "metadata": {},
   "outputs": [],
   "source": [
    "def tokens_with_rel(rel_name: str, sent_rels: defaultdict, possible_pairs: Iterable[tuple]): #rel_in_sent\n",
    "    \"возвращает множество из пар токенов, между которыми отношение rel_name\"\n",
    "    \n",
    "    if not rel_name in sent_rels:\n",
    "        return False\n",
    "    else:\n",
    "        return set(sent_rels[rel_name]).intersection(possible_pairs)"
   ]
  },
  {
   "cell_type": "code",
   "execution_count": 23,
   "id": "65ea4cb9",
   "metadata": {},
   "outputs": [],
   "source": [
    "def relpattern_tokens(possible_pairs: Iterable[tuple], sentence:models.TokenList, rel_pattern: str) -> set:\n",
    "    \"возвращает все пары токенов, которые попадают под заданный паттерн rel_pattern\"\n",
    "    \n",
    "    sent_rels = all_deprels(sentence)\n",
    "    pattern_rels = pattern_relations(rel_pattern, sent_rels)\n",
    "    all_suitable_rels = set()\n",
    "    for rel in pattern_rels:\n",
    "        all_suitable_rels = all_suitable_rels | tokens_with_rel(rel, sent_rels, possible_pairs)\n",
    "    return all_suitable_rels"
   ]
  },
  {
   "cell_type": "code",
   "execution_count": 47,
   "id": "658914e6",
   "metadata": {},
   "outputs": [],
   "source": [
    "# возвращает пары токенов, между которыми заданное расстояние\n",
    "def linear_distance(possible_tokens_pairs: set, lindist: tuple) -> set:\n",
    "    \"возвращает пары токенов, между которыми заданное расстояние\"\n",
    "    \n",
    "    suitable_tokens = set()\n",
    "    for pair in possible_tokens_pairs:\n",
    "        dist = pair[1] - pair[0]\n",
    "        if dist >= lindist[0] and dist <= lindist[1]:\n",
    "            suitable_tokens.add(pair)\n",
    "    return suitable_tokens"
   ]
  },
  {
   "cell_type": "code",
   "execution_count": 25,
   "id": "af0b2c03",
   "metadata": {},
   "outputs": [],
   "source": [
    "def match_constraints(nodes_constraints: dict, nodes_tokens: dict, sentence: models.TokenList) -> bool:\n",
    "    for nodes in nodes_constraints:\n",
    "        suitable_pairs = list(product(nodes_tokens[nodes[0]], nodes_tokens[nodes[1]])) #всевозможные комбинации токенов для нодов\n",
    "        for constraint in nodes_constraints[nodes]:\n",
    "            if constraint == 'deprels':\n",
    "                suitable_pairs = relpattern_tokens(suitable_pairs, sentence, nodes_constraints[nodes][constraint])\n",
    "                if not suitable_pairs:\n",
    "                    return False\n",
    "            if constraint == 'lindist':\n",
    "                suitable_pairs = linear_distance(suitable_pairs, nodes_constraints[nodes][constraint])\n",
    "                if not suitable_pairs:\n",
    "                    return False\n",
    "            #союда надо добавить то же самое для расстояния в дереве и совпадения/несовпадения признаков \n",
    "    return True"
   ]
  },
  {
   "cell_type": "code",
   "execution_count": 42,
   "id": "6231380e",
   "metadata": {},
   "outputs": [],
   "source": [
    "def filter_sentence(sentence: models.TokenList, nodes_pattern: dict, constraints: dict) -> bool:\n",
    "    \"возвращает True, если предложение соответствует заданному паттерну\"\n",
    "    \n",
    "    found_nodes = find_all_nodes(nodes_pattern, sentence)\n",
    "    if not found_nodes:\n",
    "        return False\n",
    "    else:\n",
    "        if not match_constraints(constraints, found_nodes, sentence): \n",
    "            return False\n",
    "        else: \n",
    "            return True "
   ]
  },
  {
   "cell_type": "code",
   "execution_count": 49,
   "id": "8fc12ab3",
   "metadata": {},
   "outputs": [],
   "source": [
    "# примеры запросов\n",
    "patterns_names = ['passive with by Agent', 'all the']\n",
    "node_patterns = [\n",
    "    {\n",
    "        'V': {},\n",
    "        'S': {},\n",
    "        'BY': {'lemma': '^by$'},\n",
    "        'N': {},\n",
    "    },\n",
    "    {\n",
    "        'A': {'lemma': '^all$'},\n",
    "        'T': {'lemma': '^the$'},\n",
    "    }\n",
    "]\n",
    "constraints = [\n",
    "    {\n",
    "        ('V', 'S'): {'deprels': '^aux:pass$'},\n",
    "        ('V', 'N'): {'deprels': '^obl$'},\n",
    "        ('N', 'BY'): {'deprels': '^case$'},\n",
    "    },\n",
    "    {\n",
    "        ('A', 'T'): {'lindist': (1, 1)}\n",
    "    }\n",
    "]"
   ]
  },
  {
   "cell_type": "code",
   "execution_count": 50,
   "id": "259b1017",
   "metadata": {},
   "outputs": [],
   "source": [
    "probing_data = defaultdict(list)\n",
    "for pattern in patterns_names:\n",
    "    for sentence in sentences:\n",
    "        if filter_sentence(sentence, node_patterns[1], constraints[1]):\n",
    "            probing_data[pattern].append(sentence.metadata['text'])"
   ]
  },
  {
   "cell_type": "code",
   "execution_count": 54,
   "id": "5392720a",
   "metadata": {},
   "outputs": [
    {
     "data": {
      "text/plain": [
       "['If he or she did not, then they should have all the same rights as other Iraqis.',\n",
       " 'Unreported by the international media, the Valley of Kashmir has seen an ethnic and cultural genocide that has resulted in the fleeing from the valley of almost all the Hindu families who have been living there since human habitation was first recorded.',\n",
       " 'Unreported by the international media, the Valley of Kashmir has seen an ethnic and cultural genocide that has resulted in the fleeing from the valley of almost all the Hindu families who have been living there since human habitation was first recorded.',\n",
       " 'All the regional countries have publicly backed the Karzai government and supported the electoral process, but serious undercurrents remain as they all have their favourite contenders in Afghanistan.',\n",
       " 'And of all the people who the county is getting to find a replacement...is none other than Lee Brown, the original supervisor of the Atlanta PD, who was in office during the murders and the subsequent investigation.',\n",
       " \"I'm sure this kind of thing goes on all the time.\",\n",
       " 'More people die from AIDS in one day in Africa than all the Russians who died in the hands of Chechnya-based Moslem suicide murderers since that conflict started.',\n",
       " 'So what is all the fuss about suicide killings?',\n",
       " 'Perhaps something got lost in the translation, but the phrase \"Chemical Wire Group\" has appeared in all the english Pakistan and India papers.',\n",
       " 'My concept is that overtime I would like to own one of all the following artists and they are all depending when I find something that we really like.',\n",
       " 'Yo mama`s so fat, all the restaurants in town have signs that say: \"Maximum Occupancy: 240 Patrons OR Yo Mama\" Yo mama`s so fat, when she ran away, they had to use all four sides of the milk carton.',\n",
       " \"All the guys at work are saying I shouldn't bother having it fixed I should just buy a new one.\",\n",
       " 'Jared, Ruth and I are going to go over all the Florida activity tomorrow morning.',\n",
       " 'Jared, Ruth and I are going to go over all the Florida activity tomorrow morning.',\n",
       " 'For better or worse, all the folks under the heading \"Origination\" and \"Development\" are ours, although Kathleen has a special role with Development.',\n",
       " 'Adding all the Enron \"Specified Entities\" would only make a default under a financial transaction with those other Enron entities a default under this agreement.',\n",
       " 'If you do add all the entities, does that mean that we would not need to put in place a separate agreement for ECCL?',\n",
       " 'With respect to Deutsche Bank (\"\"DB\"), we have one credit issue remaining, DB would like us to add all the Enron trading entities DB trades with as Specified Entities under the ISDA Master Agreement and we are somewhat hesitant to do so, as this could potentially roll up swaps under structured loan transactions into a default under the ISDA Agreement.',\n",
       " 'All the best and kind regards',\n",
       " \"Shouldn't all the liquidation values from the beginning of the month be a negative (representing positive liquidation) for the puts?\",\n",
       " \"Shouldn't all the liquidation values from the beginning of the month be a negative (representing positive liquidation) for the puts?\",\n",
       " 'All the outside participants will be prompted to enter their access code, which is 600-480.',\n",
       " \"I agree also, but I don't know all the parties or complications involved.\",\n",
       " \"following up on our discussion yesterday; for these types of deals, i dont think its necessary to have all the documentation of our counterparty's authorization to enter into the agreement.\",\n",
       " 'Look around you and notice all the mind numbing trailor trash cretins out there who should not be procreating, yet they do.',\n",
       " \"Just because you're stuck, doesnt give you the right to drag down all the singles around you.\",\n",
       " 'Another time I\\'ll segueway into all the fun work related instances where \"Mommies\" get out of doing work and hiding behind childcare as the reason.',\n",
       " 'Living out of synch with nature is the great disease, from that flows all the tributaries we have come to think of as sickness.',\n",
       " 'Exercises all the glands and limbs from head to toes.',\n",
       " 'BUT they stated that they will take as long as it takes to work out all the bugs so who really know how long.',\n",
       " 'I have participated in all the weekend beta events and the world preview.',\n",
       " 'Survivors are being found all the time, including two children who lost their parents.',\n",
       " 'The home page for Rockin on the River is , and it lists all the acts scheduled for the season.',\n",
       " '\"Commander In Chief\" doesn\\'t mean that he is the boss of the Military, merely that he is the Administrator, just as he is the Administrator of the Executive Branch, charged with \"executing faithfully\" all the laws passed by Congress and all the Decisions rendered by the Supreme Court.',\n",
       " 'The target for NASA & Company probably to get by 2018 all the ambitious space program countries shifting towards this model, through the propaganda of another moon mission; deliberately failing this or trying hard for another moon landing hoax; achieving the real aim of space unity between space programs of other countries.',\n",
       " 'If all the following instructions are adhered to, you will receive extraordinary dividends.',\n",
       " '\"As an American, I would like to take this opportunity to tell all the \\'USA and Bush Bashers\\' that I am appalled at the number of \\'allies\\' that are using this disaster as their podium to spread their useless opinions.',\n",
       " '1560 Ruy Lopez visits Rome and defeats all the players.',\n",
       " '<<\"Well then,\" said Don Quixote, \"the same thing happens in the comedy and life of this world, where some play emperors, others popes, and, in short, all the characters that can be brought into a play; but when it is over, that is to say when life ends, death strips them all of the garments that distinguish one from the other, and all are equal in the grave.\"',\n",
       " \"Of all the missiles in Iran's armament, the most dangerous is the Russian-made SS-N-22 Sunburn.\",\n",
       " 'Unfortunately, all the dangers in the world are no match for the self-assurance of a bubble-encased zealot.',\n",
       " 'The Abramoff scandal threatens to subsume all the hard-fought GOP gains in Congress, and the 2006 midterms are less than a year away.',\n",
       " \"They'll give you a comprehensive list of all the universities that do the courses you want, plus all the information you need to apply.\",\n",
       " 'You could move all the babies into a fry net breeder or move all of the bigger fish (also the parents) to a different tank to avoid the babies getting eaten.',\n",
       " 'iv owned beardies for ovr 3 yrs and i handle mine all the time.. they dont go hard lik eneedle hard but they arnt pillow soft.',\n",
       " 'You need either a filter for each device except the DSL modem, or a whole home filter which filters all the jacks, except the one which the DSL modem connects.',\n",
       " 'Nobody pays someone to keep their horse in shape and rides once a week, then takes all the ribbons at the show because their horse is good.',\n",
       " 'When you get the tank make sure you wash the inside (with plain water) then you wash the gravel (with only water too) take out all the stuff that is floating on top.',\n",
       " \"I'm talking soaking all the litter box and then some.\",\n",
       " 'Above is the link to the Department of State travel website, which will give you all the info that you need, including passport information.',\n",
       " 'When I went to Bosnia, all the meat was Halal.',\n",
       " \"Last thing is every time I sit on a chair or something higher than him, he will try to jump on, if he can't, he will bark all the time until I let him get on, what should I do with this ?\",\n",
       " 'All the best.',\n",
       " 'None, just walk in to the service office and present all the identification you have to prove your identity.',\n",
       " 'Do you want to see all the sites or simply a few photos and on your way to the next place.',\n",
       " 'When the dog is ok with this, then open the door and walk around the crate, leave the door open all the time.',\n",
       " 'You also have to put up with all the annoying accents in Australia.',\n",
       " 'Their seasons are the same as all the countries in the Northern Hemisphere but I would suggest fall.',\n",
       " 'You could stay in a city & get a bus tour to say the Cliffs of Moher or Dingle peninsula but you will be with all the other tourists.',\n",
       " 'Another problem is that sometimes bad eggs will fungus and the fungus will spread out and kill all the eggs.',\n",
       " \"If so go for it and I'll give you all the moral support I can as you figure out what is up.\",\n",
       " \"In this hard economic times is very important to save money Very reasonable prices top quality work The owner operator he does all the the work with Helpers very friendly I definitely recommend this this guys Don't get jack by big companies that they pay alot of money to be on top of the list Thanks\",\n",
       " 'The salespeople are never available, the lines are always too long, and all the people want is a sale.',\n",
       " 'Since then we have decided to have them manage our other investment properties as well as we getting older and can no longer perform all the inquires.',\n",
       " 'It is a great course for local golfers to be proud of and all the comments in 2008 have been very positive!!',\n",
       " 'Not the same old stuff that all the other stores have.',\n",
       " 'All the food tasted excellent, and with the new renovation of chairs and the bathroom, it is awesome.',\n",
       " 'I would reccomend anyone to go see Jana Kueck and Robin Talley to see all the many procedures they have to offer.',\n",
       " 'Top notch, all the way!',\n",
       " 'She may be the reason for all the change.',\n",
       " 'My hair looks amazing, and I get compliments all the time.',\n",
       " 'The decor left a lot to be desired and the posters telling me all the reasons 99 was great just served as an ironic contrast against the reality.',\n",
       " \"With all the child predators out there, a busy road, cars speeding by...... and you are going to let some 4/5 year olds wonder around cause you're money hungry?\",\n",
       " 'We can not wait to go back to Santa Fe and to this great B&B...especially my 4 year old, who made friends with Ms. Sue and all the ladies, and has talked about them since we left!',\n",
       " 'It took all the courage I could muster to make an appointment.',\n",
       " 'I could have stayed all day and not seen all the things.',\n",
       " \"Got the tile ripped out, call today, now all the sudden this grinder won't leave a finished look AND it's $125 PLUS around $75 for the inserts.\",\n",
       " 'When the guys arrived (2 hours later than agreed) they told that you have to pay all the tolls they payed coming from Brooklyn and extra $100 for them to drive back from your destination.',\n",
       " 'She stole the information and gave it to another guy that did all the work.',\n",
       " 'If you have gotten through ordering, dealing with the rude staff and if you followed the dumb rules, you are finally presented with what you came for..some tacos that are \"ok,\" but definitely not worth putting up with all the hassle.',\n",
       " 'In the second room it took 3 tries to get all the towels and linens we requested.',\n",
       " \"I've toured this place and was impressed by how clean the place was, and all the options for the dogs.\"]"
      ]
     },
     "execution_count": 54,
     "metadata": {},
     "output_type": "execute_result"
    }
   ],
   "source": [
    "probing_data['passive with by Agent']"
   ]
  },
  {
   "cell_type": "code",
   "execution_count": null,
   "id": "a3cf1d0f",
   "metadata": {},
   "outputs": [],
   "source": []
  }
 ],
 "metadata": {
  "kernelspec": {
   "display_name": "Python 3",
   "language": "python",
   "name": "python3"
  },
  "language_info": {
   "codemirror_mode": {
    "name": "ipython",
    "version": 3
   },
   "file_extension": ".py",
   "mimetype": "text/x-python",
   "name": "python",
   "nbconvert_exporter": "python",
   "pygments_lexer": "ipython3",
   "version": "3.8.8"
  }
 },
 "nbformat": 4,
 "nbformat_minor": 5
}
